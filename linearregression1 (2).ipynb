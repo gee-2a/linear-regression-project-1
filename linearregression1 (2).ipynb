{
 "cells": [
  {
   "cell_type": "code",
   "execution_count": 275,
   "id": "6d1deaae-a66c-4a22-88fd-6f5bf8d44d85",
   "metadata": {},
   "outputs": [],
   "source": [
    "import numpy as np\n",
    "import pandas as pd\n",
    "import statsmodels.api as sm\n",
    "import matplotlib.pyplot as plt\n",
    "from sklearn.linear_model import LinearRegression\n",
    "import seaborn as sns\n",
    "sns.set()"
   ]
  },
  {
   "cell_type": "code",
   "execution_count": 276,
   "id": "f28222b7-32ba-411c-a602-3e2a8a5197b0",
   "metadata": {},
   "outputs": [],
   "source": [
    "import pandas as pd\n",
    "raw_data = pd.read_csv('1.04. Real-life example.csv')"
   ]
  },
  {
   "cell_type": "code",
   "execution_count": 277,
   "id": "3aa6e8a0-79a8-4f49-a57b-0623fea86d5b",
   "metadata": {},
   "outputs": [
    {
     "data": {
      "text/html": [
       "<div>\n",
       "<style scoped>\n",
       "    .dataframe tbody tr th:only-of-type {\n",
       "        vertical-align: middle;\n",
       "    }\n",
       "\n",
       "    .dataframe tbody tr th {\n",
       "        vertical-align: top;\n",
       "    }\n",
       "\n",
       "    .dataframe thead th {\n",
       "        text-align: right;\n",
       "    }\n",
       "</style>\n",
       "<table border=\"1\" class=\"dataframe\">\n",
       "  <thead>\n",
       "    <tr style=\"text-align: right;\">\n",
       "      <th></th>\n",
       "      <th>Brand</th>\n",
       "      <th>Price</th>\n",
       "      <th>Body</th>\n",
       "      <th>Mileage</th>\n",
       "      <th>EngineV</th>\n",
       "      <th>Engine Type</th>\n",
       "      <th>Registration</th>\n",
       "      <th>Year</th>\n",
       "      <th>Model</th>\n",
       "    </tr>\n",
       "  </thead>\n",
       "  <tbody>\n",
       "    <tr>\n",
       "      <th>0</th>\n",
       "      <td>Volkswagen</td>\n",
       "      <td>15000</td>\n",
       "      <td>sedan</td>\n",
       "      <td>120</td>\n",
       "      <td>2.0</td>\n",
       "      <td>Diesel</td>\n",
       "      <td>yes</td>\n",
       "      <td>2010</td>\n",
       "      <td>Passat</td>\n",
       "    </tr>\n",
       "    <tr>\n",
       "      <th>1</th>\n",
       "      <td>BMW</td>\n",
       "      <td>20000</td>\n",
       "      <td>SUV</td>\n",
       "      <td>85</td>\n",
       "      <td>3.0</td>\n",
       "      <td>Petrol</td>\n",
       "      <td>no</td>\n",
       "      <td>2015</td>\n",
       "      <td>X5</td>\n",
       "    </tr>\n",
       "    <tr>\n",
       "      <th>2</th>\n",
       "      <td>Mercedes</td>\n",
       "      <td>30000</td>\n",
       "      <td>coupe</td>\n",
       "      <td>95</td>\n",
       "      <td>2.5</td>\n",
       "      <td>Petrol</td>\n",
       "      <td>yes</td>\n",
       "      <td>2020</td>\n",
       "      <td>C-Class</td>\n",
       "    </tr>\n",
       "    <tr>\n",
       "      <th>3</th>\n",
       "      <td>Toyota</td>\n",
       "      <td>25000</td>\n",
       "      <td>hatchback</td>\n",
       "      <td>100</td>\n",
       "      <td>1.8</td>\n",
       "      <td>Hybrid</td>\n",
       "      <td>yes</td>\n",
       "      <td>2018</td>\n",
       "      <td>Corolla</td>\n",
       "    </tr>\n",
       "    <tr>\n",
       "      <th>4</th>\n",
       "      <td>Honda</td>\n",
       "      <td>18000</td>\n",
       "      <td>sedan</td>\n",
       "      <td>110</td>\n",
       "      <td>2.2</td>\n",
       "      <td>Diesel</td>\n",
       "      <td>no</td>\n",
       "      <td>2012</td>\n",
       "      <td>Civic</td>\n",
       "    </tr>\n",
       "  </tbody>\n",
       "</table>\n",
       "</div>"
      ],
      "text/plain": [
       "        Brand  Price       Body  Mileage  EngineV Engine Type Registration  \\\n",
       "0  Volkswagen  15000      sedan      120      2.0      Diesel          yes   \n",
       "1         BMW  20000        SUV       85      3.0      Petrol           no   \n",
       "2    Mercedes  30000      coupe       95      2.5      Petrol          yes   \n",
       "3      Toyota  25000  hatchback      100      1.8      Hybrid          yes   \n",
       "4       Honda  18000      sedan      110      2.2      Diesel           no   \n",
       "\n",
       "   Year    Model  \n",
       "0  2010   Passat  \n",
       "1  2015       X5  \n",
       "2  2020  C-Class  \n",
       "3  2018  Corolla  \n",
       "4  2012    Civic  "
      ]
     },
     "execution_count": 277,
     "metadata": {},
     "output_type": "execute_result"
    }
   ],
   "source": [
    "raw_data.head()"
   ]
  },
  {
   "cell_type": "code",
   "execution_count": 278,
   "id": "3117769e-fad6-4c0a-b598-1f040cebf890",
   "metadata": {},
   "outputs": [
    {
     "data": {
      "text/html": [
       "<div>\n",
       "<style scoped>\n",
       "    .dataframe tbody tr th:only-of-type {\n",
       "        vertical-align: middle;\n",
       "    }\n",
       "\n",
       "    .dataframe tbody tr th {\n",
       "        vertical-align: top;\n",
       "    }\n",
       "\n",
       "    .dataframe thead th {\n",
       "        text-align: right;\n",
       "    }\n",
       "</style>\n",
       "<table border=\"1\" class=\"dataframe\">\n",
       "  <thead>\n",
       "    <tr style=\"text-align: right;\">\n",
       "      <th></th>\n",
       "      <th>Brand</th>\n",
       "      <th>Price</th>\n",
       "      <th>Body</th>\n",
       "      <th>Mileage</th>\n",
       "      <th>EngineV</th>\n",
       "      <th>Engine Type</th>\n",
       "      <th>Registration</th>\n",
       "      <th>Year</th>\n",
       "      <th>Model</th>\n",
       "    </tr>\n",
       "  </thead>\n",
       "  <tbody>\n",
       "    <tr>\n",
       "      <th>10</th>\n",
       "      <td>Kia</td>\n",
       "      <td>15000</td>\n",
       "      <td>sedan</td>\n",
       "      <td>125</td>\n",
       "      <td>1.6</td>\n",
       "      <td>Hybrid</td>\n",
       "      <td>yes</td>\n",
       "      <td>2015</td>\n",
       "      <td>Optima</td>\n",
       "    </tr>\n",
       "    <tr>\n",
       "      <th>11</th>\n",
       "      <td>Volvo</td>\n",
       "      <td>28000</td>\n",
       "      <td>station</td>\n",
       "      <td>95</td>\n",
       "      <td>2.0</td>\n",
       "      <td>Diesel</td>\n",
       "      <td>no</td>\n",
       "      <td>2021</td>\n",
       "      <td>V60</td>\n",
       "    </tr>\n",
       "    <tr>\n",
       "      <th>12</th>\n",
       "      <td>Subaru</td>\n",
       "      <td>21000</td>\n",
       "      <td>SUV</td>\n",
       "      <td>110</td>\n",
       "      <td>2.5</td>\n",
       "      <td>Petrol</td>\n",
       "      <td>yes</td>\n",
       "      <td>2018</td>\n",
       "      <td>Forester</td>\n",
       "    </tr>\n",
       "    <tr>\n",
       "      <th>13</th>\n",
       "      <td>Mazda</td>\n",
       "      <td>20000</td>\n",
       "      <td>sedan</td>\n",
       "      <td>115</td>\n",
       "      <td>2.2</td>\n",
       "      <td>Diesel</td>\n",
       "      <td>no</td>\n",
       "      <td>2016</td>\n",
       "      <td>Mazda6</td>\n",
       "    </tr>\n",
       "    <tr>\n",
       "      <th>14</th>\n",
       "      <td>Jeep</td>\n",
       "      <td>35000</td>\n",
       "      <td>SUV</td>\n",
       "      <td>85</td>\n",
       "      <td>3.2</td>\n",
       "      <td>Petrol</td>\n",
       "      <td>yes</td>\n",
       "      <td>2022</td>\n",
       "      <td>Cherokee</td>\n",
       "    </tr>\n",
       "  </tbody>\n",
       "</table>\n",
       "</div>"
      ],
      "text/plain": [
       "     Brand  Price     Body  Mileage  EngineV Engine Type Registration  Year  \\\n",
       "10     Kia  15000    sedan      125      1.6      Hybrid          yes  2015   \n",
       "11   Volvo  28000  station       95      2.0      Diesel           no  2021   \n",
       "12  Subaru  21000      SUV      110      2.5      Petrol          yes  2018   \n",
       "13   Mazda  20000    sedan      115      2.2      Diesel           no  2016   \n",
       "14    Jeep  35000      SUV       85      3.2      Petrol          yes  2022   \n",
       "\n",
       "       Model  \n",
       "10    Optima  \n",
       "11       V60  \n",
       "12  Forester  \n",
       "13    Mazda6  \n",
       "14  Cherokee  "
      ]
     },
     "execution_count": 278,
     "metadata": {},
     "output_type": "execute_result"
    }
   ],
   "source": [
    "raw_data.tail()"
   ]
  },
  {
   "cell_type": "code",
   "execution_count": 279,
   "id": "f9c2dfda-3ac2-4436-ac16-bd3270c70b6a",
   "metadata": {},
   "outputs": [
    {
     "name": "stdout",
     "output_type": "stream",
     "text": [
      "         Brand  Price       Body  Mileage  EngineV Engine Type Registration  \\\n",
      "0   Volkswagen  15000      sedan      120      2.0      Diesel          yes   \n",
      "1          BMW  20000        SUV       85      3.0      Petrol           no   \n",
      "2     Mercedes  30000      coupe       95      2.5      Petrol          yes   \n",
      "3       Toyota  25000  hatchback      100      1.8      Hybrid          yes   \n",
      "4        Honda  18000      sedan      110      2.2      Diesel           no   \n",
      "5         Audi  22000      sedan      105      2.0      Petrol          yes   \n",
      "6         Ford  17000  hatchback      130      1.6      Diesel           no   \n",
      "7    Chevrolet  19000        SUV       90      2.4      Petrol          yes   \n",
      "8      Hyundai  16000  hatchback      140      1.8      Petrol           no   \n",
      "9       Nissan  23000        SUV       80      2.0      Diesel          yes   \n",
      "10         Kia  15000      sedan      125      1.6      Hybrid          yes   \n",
      "11       Volvo  28000    station       95      2.0      Diesel           no   \n",
      "12      Subaru  21000        SUV      110      2.5      Petrol          yes   \n",
      "13       Mazda  20000      sedan      115      2.2      Diesel           no   \n",
      "14        Jeep  35000        SUV       85      3.2      Petrol          yes   \n",
      "\n",
      "    Year  \n",
      "0   2010  \n",
      "1   2015  \n",
      "2   2020  \n",
      "3   2018  \n",
      "4   2012  \n",
      "5   2016  \n",
      "6   2014  \n",
      "7   2017  \n",
      "8   2013  \n",
      "9   2019  \n",
      "10  2015  \n",
      "11  2021  \n",
      "12  2018  \n",
      "13  2016  \n",
      "14  2022  \n"
     ]
    }
   ],
   "source": [
    "# Removing unwanted columns Model\n",
    "data = raw_data.drop(['Model'],axis=1,errors='ignore')\n",
    "print(data)"
   ]
  },
  {
   "cell_type": "code",
   "execution_count": 280,
   "id": "33bd231c-3216-46dc-8fc8-2fbc1cf0959a",
   "metadata": {},
   "outputs": [
    {
     "data": {
      "text/plain": [
       "Brand           0.0\n",
       "Price           0.0\n",
       "Body            0.0\n",
       "Mileage         0.0\n",
       "EngineV         0.0\n",
       "Engine Type     0.0\n",
       "Registration    0.0\n",
       "Year            0.0\n",
       "dtype: float64"
      ]
     },
     "execution_count": 280,
     "metadata": {},
     "output_type": "execute_result"
    }
   ],
   "source": [
    "data.isnull().sum()*100/len(data)"
   ]
  },
  {
   "cell_type": "code",
   "execution_count": 281,
   "id": "e9c46ecd-d773-495d-90ad-b1371e5fa651",
   "metadata": {},
   "outputs": [],
   "source": [
    "data.dropna(axis=0, inplace=True)"
   ]
  },
  {
   "cell_type": "code",
   "execution_count": 282,
   "id": "93c43265-09f2-4878-8a63-1215925fbb49",
   "metadata": {},
   "outputs": [
    {
     "name": "stdout",
     "output_type": "stream",
     "text": [
      "<class 'pandas.core.frame.DataFrame'>\n",
      "RangeIndex: 15 entries, 0 to 14\n",
      "Data columns (total 8 columns):\n",
      " #   Column        Non-Null Count  Dtype  \n",
      "---  ------        --------------  -----  \n",
      " 0   Brand         15 non-null     object \n",
      " 1   Price         15 non-null     int64  \n",
      " 2   Body          15 non-null     object \n",
      " 3   Mileage       15 non-null     int64  \n",
      " 4   EngineV       15 non-null     float64\n",
      " 5   Engine Type   15 non-null     object \n",
      " 6   Registration  15 non-null     object \n",
      " 7   Year          15 non-null     int64  \n",
      "dtypes: float64(1), int64(3), object(4)\n",
      "memory usage: 1.1+ KB\n"
     ]
    }
   ],
   "source": [
    "data.info()"
   ]
  },
  {
   "cell_type": "code",
   "execution_count": 283,
   "id": "69bd7ec4-d3ae-4884-87f5-9fb67d9a278d",
   "metadata": {},
   "outputs": [
    {
     "data": {
      "text/plain": [
       "<seaborn.axisgrid.FacetGrid at 0x14eb6afc0>"
      ]
     },
     "execution_count": 283,
     "metadata": {},
     "output_type": "execute_result"
    },
    {
     "data": {
      "image/png": "[encoded data removed]",
      "text/plain": [
       "<Figure size 500x500 with 1 Axes>"
      ]
     },
     "metadata": {},
     "output_type": "display_data"
    }
   ],
   "source": [
    "import seaborn as sns\n",
    "sns.displot(data['Price'])"
   ]
  },
  {
   "cell_type": "code",
   "execution_count": 284,
   "id": "71996473-378b-4842-8f62-0a6fb3430ca7",
   "metadata": {},
   "outputs": [
    {
     "data": {
      "text/plain": [
       "count       15.000000\n",
       "mean     21600.000000\n",
       "std       5791.619561\n",
       "min      15000.000000\n",
       "25%      17500.000000\n",
       "50%      20000.000000\n",
       "75%      24000.000000\n",
       "max      35000.000000\n",
       "Name: Price, dtype: float64"
      ]
     },
     "execution_count": 284,
     "metadata": {},
     "output_type": "execute_result"
    }
   ],
   "source": [
    "data['Price'].describe()"
   ]
  },
  {
   "cell_type": "code",
   "execution_count": 285,
   "id": "a55de207-5983-400b-9f98-77c7ca223ed9",
   "metadata": {},
   "outputs": [
    {
     "data": {
      "text/plain": [
       "<seaborn.axisgrid.FacetGrid at 0x14ac09bb0>"
      ]
     },
     "execution_count": 285,
     "metadata": {},
     "output_type": "execute_result"
    },
    {
     "data": {
      "image/png": "[encoded data removed]",
      "text/plain": [
       "<Figure size 500x500 with 1 Axes>"
      ]
     },
     "metadata": {},
     "output_type": "display_data"
    }
   ],
   "source": [
    "sns.displot(data['Mileage'])"
   ]
  },
  {
   "cell_type": "code",
   "execution_count": 286,
   "id": "8cd0bb61-6d80-436d-8c9c-ce588fde280b",
   "metadata": {},
   "outputs": [
    {
     "data": {
      "text/plain": [
       "<seaborn.axisgrid.FacetGrid at 0x1494ce0c0>"
      ]
     },
     "execution_count": 286,
     "metadata": {},
     "output_type": "execute_result"
    },
    {
     "data": {
      "image/png": "[encoded data removed]",
      "text/plain": [
       "<Figure size 500x500 with 1 Axes>"
      ]
     },
     "metadata": {},
     "output_type": "display_data"
    }
   ],
   "source": [
    "q = data['Mileage'].quantile(0.99)\n",
    "data = data[data['Mileage']<q]\n",
    "sns.displot(data['Mileage'])"
   ]
  },
  {
   "cell_type": "code",
   "execution_count": 287,
   "id": "efd42a71-8aa4-480c-90cf-7628f6dbb20d",
   "metadata": {},
   "outputs": [
    {
     "data": {
      "text/plain": [
       "<seaborn.axisgrid.FacetGrid at 0x14aaf9520>"
      ]
     },
     "execution_count": 287,
     "metadata": {},
     "output_type": "execute_result"
    },
    {
     "data": {
      "image/png": "[encoded data removed]",
      "text/plain": [
       "<Figure size 500x500 with 1 Axes>"
      ]
     },
     "metadata": {},
     "output_type": "display_data"
    }
   ],
   "source": [
    "sns.displot(data['EngineV'])"
   ]
  },
  {
   "cell_type": "code",
   "execution_count": 288,
   "id": "6b645087-d9c2-408f-8455-bfea258e545e",
   "metadata": {},
   "outputs": [
    {
     "data": {
      "text/plain": [
       "count    14.000000\n",
       "mean      2.214286\n",
       "std       0.472077\n",
       "min       1.600000\n",
       "25%       2.000000\n",
       "50%       2.100000\n",
       "75%       2.475000\n",
       "max       3.200000\n",
       "Name: EngineV, dtype: float64"
      ]
     },
     "execution_count": 288,
     "metadata": {},
     "output_type": "execute_result"
    }
   ],
   "source": [
    "data['EngineV'].describe()"
   ]
  },
  {
   "cell_type": "code",
   "execution_count": 289,
   "id": "b168683f-4f04-454d-a7a3-e51628c3ed8b",
   "metadata": {},
   "outputs": [
    {
     "data": {
      "text/plain": [
       "<seaborn.axisgrid.FacetGrid at 0x14f0b0ad0>"
      ]
     },
     "execution_count": 289,
     "metadata": {},
     "output_type": "execute_result"
    },
    {
     "data": {
      "image/png": "[encoded data removed]",
      "text/plain": [
       "<Figure size 500x500 with 1 Axes>"
      ]
     },
     "metadata": {},
     "output_type": "display_data"
    }
   ],
   "source": [
    "data = data[data['EngineV']<6.5]\n",
    "sns.displot(data['EngineV'])"
   ]
  },
  {
   "cell_type": "code",
   "execution_count": 290,
   "id": "b81bdbf0-3ab7-4c79-aaf8-7e0899838b7f",
   "metadata": {},
   "outputs": [
    {
     "data": {
      "text/plain": [
       "<seaborn.axisgrid.FacetGrid at 0x14f0fb050>"
      ]
     },
     "execution_count": 290,
     "metadata": {},
     "output_type": "execute_result"
    },
    {
     "data": {
      "image/png": "[encoded data removed]",
      "text/plain": [
       "<Figure size 500x500 with 1 Axes>"
      ]
     },
     "metadata": {},
     "output_type": "display_data"
    }
   ],
   "source": [
    "sns.displot(data['Year'])"
   ]
  },
  {
   "cell_type": "code",
   "execution_count": 291,
   "id": "33b4ac5b-90fe-46cd-9d9a-f9be97881cf2",
   "metadata": {},
   "outputs": [
    {
     "data": {
      "text/plain": [
       "<seaborn.axisgrid.FacetGrid at 0x14f0b2c60>"
      ]
     },
     "execution_count": 291,
     "metadata": {},
     "output_type": "execute_result"
    },
    {
     "data": {
      "image/png": "[encoded data removed]",
      "text/plain": [
       "<Figure size 500x500 with 1 Axes>"
      ]
     },
     "metadata": {},
     "output_type": "display_data"
    }
   ],
   "source": [
    "q = data['Year'].quantile(0.01)\n",
    "data = data[data['Year']>q]\n",
    "sns.displot(data['Year'])"
   ]
  },
  {
   "cell_type": "code",
   "execution_count": 292,
   "id": "fde22eed-6fac-4f3d-8f1c-48a8b877774a",
   "metadata": {},
   "outputs": [
    {
     "data": {
      "text/html": [
       "<div>\n",
       "<style scoped>\n",
       "    .dataframe tbody tr th:only-of-type {\n",
       "        vertical-align: middle;\n",
       "    }\n",
       "\n",
       "    .dataframe tbody tr th {\n",
       "        vertical-align: top;\n",
       "    }\n",
       "\n",
       "    .dataframe thead th {\n",
       "        text-align: right;\n",
       "    }\n",
       "</style>\n",
       "<table border=\"1\" class=\"dataframe\">\n",
       "  <thead>\n",
       "    <tr style=\"text-align: right;\">\n",
       "      <th></th>\n",
       "      <th>Brand</th>\n",
       "      <th>Price</th>\n",
       "      <th>Body</th>\n",
       "      <th>Mileage</th>\n",
       "      <th>EngineV</th>\n",
       "      <th>Engine Type</th>\n",
       "      <th>Registration</th>\n",
       "      <th>Year</th>\n",
       "    </tr>\n",
       "  </thead>\n",
       "  <tbody>\n",
       "    <tr>\n",
       "      <th>1</th>\n",
       "      <td>BMW</td>\n",
       "      <td>20000</td>\n",
       "      <td>SUV</td>\n",
       "      <td>85</td>\n",
       "      <td>3.0</td>\n",
       "      <td>Petrol</td>\n",
       "      <td>no</td>\n",
       "      <td>2015</td>\n",
       "    </tr>\n",
       "    <tr>\n",
       "      <th>2</th>\n",
       "      <td>Mercedes</td>\n",
       "      <td>30000</td>\n",
       "      <td>coupe</td>\n",
       "      <td>95</td>\n",
       "      <td>2.5</td>\n",
       "      <td>Petrol</td>\n",
       "      <td>yes</td>\n",
       "      <td>2020</td>\n",
       "    </tr>\n",
       "    <tr>\n",
       "      <th>3</th>\n",
       "      <td>Toyota</td>\n",
       "      <td>25000</td>\n",
       "      <td>hatchback</td>\n",
       "      <td>100</td>\n",
       "      <td>1.8</td>\n",
       "      <td>Hybrid</td>\n",
       "      <td>yes</td>\n",
       "      <td>2018</td>\n",
       "    </tr>\n",
       "    <tr>\n",
       "      <th>4</th>\n",
       "      <td>Honda</td>\n",
       "      <td>18000</td>\n",
       "      <td>sedan</td>\n",
       "      <td>110</td>\n",
       "      <td>2.2</td>\n",
       "      <td>Diesel</td>\n",
       "      <td>no</td>\n",
       "      <td>2012</td>\n",
       "    </tr>\n",
       "    <tr>\n",
       "      <th>5</th>\n",
       "      <td>Audi</td>\n",
       "      <td>22000</td>\n",
       "      <td>sedan</td>\n",
       "      <td>105</td>\n",
       "      <td>2.0</td>\n",
       "      <td>Petrol</td>\n",
       "      <td>yes</td>\n",
       "      <td>2016</td>\n",
       "    </tr>\n",
       "  </tbody>\n",
       "</table>\n",
       "</div>"
      ],
      "text/plain": [
       "      Brand  Price       Body  Mileage  EngineV Engine Type Registration  Year\n",
       "1       BMW  20000        SUV       85      3.0      Petrol           no  2015\n",
       "2  Mercedes  30000      coupe       95      2.5      Petrol          yes  2020\n",
       "3    Toyota  25000  hatchback      100      1.8      Hybrid          yes  2018\n",
       "4     Honda  18000      sedan      110      2.2      Diesel           no  2012\n",
       "5      Audi  22000      sedan      105      2.0      Petrol          yes  2016"
      ]
     },
     "execution_count": 292,
     "metadata": {},
     "output_type": "execute_result"
    }
   ],
   "source": [
    "data.head()"
   ]
  },
  {
   "cell_type": "code",
   "execution_count": 293,
   "id": "b4d5416a-295f-4ecf-a840-2cefd133a2d2",
   "metadata": {},
   "outputs": [],
   "source": [
    "data_cleaned =  data.reset_index(drop=True)"
   ]
  },
  {
   "cell_type": "code",
   "execution_count": 294,
   "id": "0ac9e03b-d006-4192-b434-76b3c3cf2e9d",
   "metadata": {},
   "outputs": [
    {
     "data": {
      "text/html": [
       "<div>\n",
       "<style scoped>\n",
       "    .dataframe tbody tr th:only-of-type {\n",
       "        vertical-align: middle;\n",
       "    }\n",
       "\n",
       "    .dataframe tbody tr th {\n",
       "        vertical-align: top;\n",
       "    }\n",
       "\n",
       "    .dataframe thead th {\n",
       "        text-align: right;\n",
       "    }\n",
       "</style>\n",
       "<table border=\"1\" class=\"dataframe\">\n",
       "  <thead>\n",
       "    <tr style=\"text-align: right;\">\n",
       "      <th></th>\n",
       "      <th>Brand</th>\n",
       "      <th>Price</th>\n",
       "      <th>Body</th>\n",
       "      <th>Mileage</th>\n",
       "      <th>EngineV</th>\n",
       "      <th>Engine Type</th>\n",
       "      <th>Registration</th>\n",
       "      <th>Year</th>\n",
       "    </tr>\n",
       "  </thead>\n",
       "  <tbody>\n",
       "    <tr>\n",
       "      <th>count</th>\n",
       "      <td>13</td>\n",
       "      <td>13.000000</td>\n",
       "      <td>13</td>\n",
       "      <td>13.000000</td>\n",
       "      <td>13.000000</td>\n",
       "      <td>13</td>\n",
       "      <td>13</td>\n",
       "      <td>13.000000</td>\n",
       "    </tr>\n",
       "    <tr>\n",
       "      <th>unique</th>\n",
       "      <td>13</td>\n",
       "      <td>NaN</td>\n",
       "      <td>5</td>\n",
       "      <td>NaN</td>\n",
       "      <td>NaN</td>\n",
       "      <td>3</td>\n",
       "      <td>2</td>\n",
       "      <td>NaN</td>\n",
       "    </tr>\n",
       "    <tr>\n",
       "      <th>top</th>\n",
       "      <td>BMW</td>\n",
       "      <td>NaN</td>\n",
       "      <td>SUV</td>\n",
       "      <td>NaN</td>\n",
       "      <td>NaN</td>\n",
       "      <td>Petrol</td>\n",
       "      <td>yes</td>\n",
       "      <td>NaN</td>\n",
       "    </tr>\n",
       "    <tr>\n",
       "      <th>freq</th>\n",
       "      <td>1</td>\n",
       "      <td>NaN</td>\n",
       "      <td>5</td>\n",
       "      <td>NaN</td>\n",
       "      <td>NaN</td>\n",
       "      <td>6</td>\n",
       "      <td>8</td>\n",
       "      <td>NaN</td>\n",
       "    </tr>\n",
       "    <tr>\n",
       "      <th>mean</th>\n",
       "      <td>NaN</td>\n",
       "      <td>22538.461538</td>\n",
       "      <td>NaN</td>\n",
       "      <td>101.923077</td>\n",
       "      <td>2.230769</td>\n",
       "      <td>NaN</td>\n",
       "      <td>NaN</td>\n",
       "      <td>2017.153846</td>\n",
       "    </tr>\n",
       "    <tr>\n",
       "      <th>std</th>\n",
       "      <td>NaN</td>\n",
       "      <td>5651.185489</td>\n",
       "      <td>NaN</td>\n",
       "      <td>15.617626</td>\n",
       "      <td>0.487142</td>\n",
       "      <td>NaN</td>\n",
       "      <td>NaN</td>\n",
       "      <td>2.882307</td>\n",
       "    </tr>\n",
       "    <tr>\n",
       "      <th>min</th>\n",
       "      <td>NaN</td>\n",
       "      <td>15000.000000</td>\n",
       "      <td>NaN</td>\n",
       "      <td>80.000000</td>\n",
       "      <td>1.600000</td>\n",
       "      <td>NaN</td>\n",
       "      <td>NaN</td>\n",
       "      <td>2012.000000</td>\n",
       "    </tr>\n",
       "    <tr>\n",
       "      <th>25%</th>\n",
       "      <td>NaN</td>\n",
       "      <td>19000.000000</td>\n",
       "      <td>NaN</td>\n",
       "      <td>90.000000</td>\n",
       "      <td>2.000000</td>\n",
       "      <td>NaN</td>\n",
       "      <td>NaN</td>\n",
       "      <td>2015.000000</td>\n",
       "    </tr>\n",
       "    <tr>\n",
       "      <th>50%</th>\n",
       "      <td>NaN</td>\n",
       "      <td>21000.000000</td>\n",
       "      <td>NaN</td>\n",
       "      <td>100.000000</td>\n",
       "      <td>2.200000</td>\n",
       "      <td>NaN</td>\n",
       "      <td>NaN</td>\n",
       "      <td>2017.000000</td>\n",
       "    </tr>\n",
       "    <tr>\n",
       "      <th>75%</th>\n",
       "      <td>NaN</td>\n",
       "      <td>25000.000000</td>\n",
       "      <td>NaN</td>\n",
       "      <td>110.000000</td>\n",
       "      <td>2.500000</td>\n",
       "      <td>NaN</td>\n",
       "      <td>NaN</td>\n",
       "      <td>2019.000000</td>\n",
       "    </tr>\n",
       "    <tr>\n",
       "      <th>max</th>\n",
       "      <td>NaN</td>\n",
       "      <td>35000.000000</td>\n",
       "      <td>NaN</td>\n",
       "      <td>130.000000</td>\n",
       "      <td>3.200000</td>\n",
       "      <td>NaN</td>\n",
       "      <td>NaN</td>\n",
       "      <td>2022.000000</td>\n",
       "    </tr>\n",
       "  </tbody>\n",
       "</table>\n",
       "</div>"
      ],
      "text/plain": [
       "       Brand         Price Body     Mileage    EngineV Engine Type  \\\n",
       "count     13     13.000000   13   13.000000  13.000000          13   \n",
       "unique    13           NaN    5         NaN        NaN           3   \n",
       "top      BMW           NaN  SUV         NaN        NaN      Petrol   \n",
       "freq       1           NaN    5         NaN        NaN           6   \n",
       "mean     NaN  22538.461538  NaN  101.923077   2.230769         NaN   \n",
       "std      NaN   5651.185489  NaN   15.617626   0.487142         NaN   \n",
       "min      NaN  15000.000000  NaN   80.000000   1.600000         NaN   \n",
       "25%      NaN  19000.000000  NaN   90.000000   2.000000         NaN   \n",
       "50%      NaN  21000.000000  NaN  100.000000   2.200000         NaN   \n",
       "75%      NaN  25000.000000  NaN  110.000000   2.500000         NaN   \n",
       "max      NaN  35000.000000  NaN  130.000000   3.200000         NaN   \n",
       "\n",
       "       Registration         Year  \n",
       "count            13    13.000000  \n",
       "unique            2          NaN  \n",
       "top             yes          NaN  \n",
       "freq              8          NaN  \n",
       "mean            NaN  2017.153846  \n",
       "std             NaN     2.882307  \n",
       "min             NaN  2012.000000  \n",
       "25%             NaN  2015.000000  \n",
       "50%             NaN  2017.000000  \n",
       "75%             NaN  2019.000000  \n",
       "max             NaN  2022.000000  "
      ]
     },
     "execution_count": 294,
     "metadata": {},
     "output_type": "execute_result"
    }
   ],
   "source": [
    "data_cleaned.describe(include='all')"
   ]
  },
  {
   "cell_type": "code",
   "execution_count": 295,
   "id": "5b893842-8e0a-460b-bd4a-fafc49fba482",
   "metadata": {},
   "outputs": [
    {
     "data": {
      "image/png": "[encoded data removed]",
      "text/plain": [
       "<Figure size 1500x300 with 3 Axes>"
      ]
     },
     "metadata": {},
     "output_type": "display_data"
    }
   ],
   "source": [
    "import matplotlib.pyplot as plt\n",
    "f, (ax1, ax2, ax3) = plt.subplots(1, 3, sharey=True, figsize =(15,3)) #sharey -> share 'Price' as y\n",
    "ax1.scatter(data_cleaned['Year'],data_cleaned['Price'])\n",
    "ax1.set_title('Price and Year')\n",
    "ax2.scatter(data_cleaned['EngineV'],data_cleaned['Price'])\n",
    "ax2.set_title('Price and EngineV')\n",
    "ax3.scatter(data_cleaned['Mileage'],data_cleaned['Price'])\n",
    "ax3.set_title('Price and Mileage')\n",
    "plt.show()"
   ]
  },
  {
   "cell_type": "code",
   "execution_count": 296,
   "id": "11c5489c-11d2-4a3b-a6df-de7274d5ad6f",
   "metadata": {},
   "outputs": [],
   "source": [
    "# Let's transform 'Price' with a log transformation\n",
    "log_price = np.log(data_cleaned['Price'])\n",
    "\n",
    "# Then we add it to our data frame\n",
    "data_cleaned['log_price'] = log_price\n"
   ]
  },
  {
   "cell_type": "code",
   "execution_count": 297,
   "id": "6677cd2d-d632-449b-9dcd-905061f67070",
   "metadata": {},
   "outputs": [
    {
     "data": {
      "image/png": "[encoded data removed]",
      "text/plain": [
       "<Figure size 1500x300 with 3 Axes>"
      ]
     },
     "metadata": {},
     "output_type": "display_data"
    }
   ],
   "source": [
    "f, (ax1, ax2, ax3) = plt.subplots(1, 3, sharey=True, figsize =(15,3))\n",
    "ax1.scatter(data_cleaned['Year'],data_cleaned['log_price'])\n",
    "ax1.set_title('Log Price and Year')\n",
    "ax2.scatter(data_cleaned['EngineV'],data_cleaned['log_price'])\n",
    "ax2.set_title('Log Price and EngineV')\n",
    "ax3.scatter(data_cleaned['Mileage'],data_cleaned['log_price'])\n",
    "ax3.set_title('Log Price and Mileage')\n",
    "plt.show()\n"
   ]
  },
  {
   "cell_type": "code",
   "execution_count": 298,
   "id": "e47a86b9-a699-45b6-8da8-4875c8fa29c4",
   "metadata": {},
   "outputs": [],
   "source": [
    "data_cleaned = data_cleaned.drop(['Price'],axis=1)     \n"
   ]
  },
  {
   "cell_type": "code",
   "execution_count": 299,
   "id": "9c315d61-507b-4df7-ac7c-e23aa7a020a6",
   "metadata": {},
   "outputs": [
    {
     "data": {
      "text/html": [
       "<div>\n",
       "<style scoped>\n",
       "    .dataframe tbody tr th:only-of-type {\n",
       "        vertical-align: middle;\n",
       "    }\n",
       "\n",
       "    .dataframe tbody tr th {\n",
       "        vertical-align: top;\n",
       "    }\n",
       "\n",
       "    .dataframe thead th {\n",
       "        text-align: right;\n",
       "    }\n",
       "</style>\n",
       "<table border=\"1\" class=\"dataframe\">\n",
       "  <thead>\n",
       "    <tr style=\"text-align: right;\">\n",
       "      <th></th>\n",
       "      <th>VIF</th>\n",
       "      <th>Features</th>\n",
       "    </tr>\n",
       "  </thead>\n",
       "  <tbody>\n",
       "    <tr>\n",
       "      <th>0</th>\n",
       "      <td>76.445883</td>\n",
       "      <td>Mileage</td>\n",
       "    </tr>\n",
       "    <tr>\n",
       "      <th>1</th>\n",
       "      <td>179.364930</td>\n",
       "      <td>Year</td>\n",
       "    </tr>\n",
       "    <tr>\n",
       "      <th>2</th>\n",
       "      <td>39.080134</td>\n",
       "      <td>EngineV</td>\n",
       "    </tr>\n",
       "  </tbody>\n",
       "</table>\n",
       "</div>"
      ],
      "text/plain": [
       "          VIF Features\n",
       "0   76.445883  Mileage\n",
       "1  179.364930     Year\n",
       "2   39.080134  EngineV"
      ]
     },
     "execution_count": 299,
     "metadata": {},
     "output_type": "execute_result"
    }
   ],
   "source": [
    "from statsmodels.stats.outliers_influence import variance_inflation_factor\n",
    "\n",
    "variables = data_cleaned[['Mileage','Year','EngineV']]\n",
    "\n",
    "vif = pd.DataFrame()\n",
    "\n",
    "vif[\"VIF\"] = [variance_inflation_factor(variables.values, i) for i in range(variables.shape[1])]\n",
    "vif[\"Features\"] = variables.columns\n",
    "vif"
   ]
  },
  {
   "cell_type": "code",
   "execution_count": 300,
   "id": "eab614a4-e236-4c66-82e4-f20b17d74156",
   "metadata": {},
   "outputs": [],
   "source": [
    "data = data_cleaned.drop(['Year'],axis=1)"
   ]
  },
  {
   "cell_type": "code",
   "execution_count": 301,
   "id": "e8441782-a6b6-49d2-abb3-5bdfe9a6d0aa",
   "metadata": {},
   "outputs": [],
   "source": [
    "data =pd.get_dummies(data, drop_first=True)"
   ]
  },
  {
   "cell_type": "code",
   "execution_count": 302,
   "id": "b4098fa9-4b6a-49a5-ba47-b28547ff3706",
   "metadata": {},
   "outputs": [
    {
     "data": {
      "text/plain": [
       "array(['Mileage', 'EngineV', 'log_price', 'Brand_BMW', 'Brand_Chevrolet',\n",
       "       'Brand_Ford', 'Brand_Honda', 'Brand_Jeep', 'Brand_Kia',\n",
       "       'Brand_Mazda', 'Brand_Mercedes', 'Brand_Nissan', 'Brand_Subaru',\n",
       "       'Brand_Toyota', 'Brand_Volvo', 'Body_coupe', 'Body_hatchback',\n",
       "       'Body_sedan', 'Body_station', 'Engine Type_Hybrid',\n",
       "       'Engine Type_Petrol', 'Registration_yes'], dtype=object)"
      ]
     },
     "execution_count": 302,
     "metadata": {},
     "output_type": "execute_result"
    }
   ],
   "source": [
    "data.columns.values"
   ]
  },
  {
   "cell_type": "code",
   "execution_count": 303,
   "id": "a37891f3-8f68-423b-bcee-dab0baf95bcd",
   "metadata": {},
   "outputs": [
    {
     "data": {
      "text/html": [
       "<div>\n",
       "<style scoped>\n",
       "    .dataframe tbody tr th:only-of-type {\n",
       "        vertical-align: middle;\n",
       "    }\n",
       "\n",
       "    .dataframe tbody tr th {\n",
       "        vertical-align: top;\n",
       "    }\n",
       "\n",
       "    .dataframe thead th {\n",
       "        text-align: right;\n",
       "    }\n",
       "</style>\n",
       "<table border=\"1\" class=\"dataframe\">\n",
       "  <thead>\n",
       "    <tr style=\"text-align: right;\">\n",
       "      <th></th>\n",
       "      <th>Mileage</th>\n",
       "      <th>EngineV</th>\n",
       "      <th>log_price</th>\n",
       "      <th>Brand_BMW</th>\n",
       "      <th>Brand_Chevrolet</th>\n",
       "      <th>Brand_Ford</th>\n",
       "      <th>Brand_Honda</th>\n",
       "      <th>Brand_Jeep</th>\n",
       "      <th>Brand_Kia</th>\n",
       "      <th>Brand_Mazda</th>\n",
       "      <th>...</th>\n",
       "      <th>Brand_Subaru</th>\n",
       "      <th>Brand_Toyota</th>\n",
       "      <th>Brand_Volvo</th>\n",
       "      <th>Body_coupe</th>\n",
       "      <th>Body_hatchback</th>\n",
       "      <th>Body_sedan</th>\n",
       "      <th>Body_station</th>\n",
       "      <th>Engine Type_Hybrid</th>\n",
       "      <th>Engine Type_Petrol</th>\n",
       "      <th>Registration_yes</th>\n",
       "    </tr>\n",
       "  </thead>\n",
       "  <tbody>\n",
       "    <tr>\n",
       "      <th>8</th>\n",
       "      <td>125</td>\n",
       "      <td>1.6</td>\n",
       "      <td>9.615805</td>\n",
       "      <td>0</td>\n",
       "      <td>0</td>\n",
       "      <td>0</td>\n",
       "      <td>0</td>\n",
       "      <td>0</td>\n",
       "      <td>1</td>\n",
       "      <td>0</td>\n",
       "      <td>...</td>\n",
       "      <td>0</td>\n",
       "      <td>0</td>\n",
       "      <td>0</td>\n",
       "      <td>0</td>\n",
       "      <td>0</td>\n",
       "      <td>1</td>\n",
       "      <td>0</td>\n",
       "      <td>1</td>\n",
       "      <td>0</td>\n",
       "      <td>1</td>\n",
       "    </tr>\n",
       "    <tr>\n",
       "      <th>9</th>\n",
       "      <td>95</td>\n",
       "      <td>2.0</td>\n",
       "      <td>10.239960</td>\n",
       "      <td>0</td>\n",
       "      <td>0</td>\n",
       "      <td>0</td>\n",
       "      <td>0</td>\n",
       "      <td>0</td>\n",
       "      <td>0</td>\n",
       "      <td>0</td>\n",
       "      <td>...</td>\n",
       "      <td>0</td>\n",
       "      <td>0</td>\n",
       "      <td>1</td>\n",
       "      <td>0</td>\n",
       "      <td>0</td>\n",
       "      <td>0</td>\n",
       "      <td>1</td>\n",
       "      <td>0</td>\n",
       "      <td>0</td>\n",
       "      <td>0</td>\n",
       "    </tr>\n",
       "    <tr>\n",
       "      <th>10</th>\n",
       "      <td>110</td>\n",
       "      <td>2.5</td>\n",
       "      <td>9.952278</td>\n",
       "      <td>0</td>\n",
       "      <td>0</td>\n",
       "      <td>0</td>\n",
       "      <td>0</td>\n",
       "      <td>0</td>\n",
       "      <td>0</td>\n",
       "      <td>0</td>\n",
       "      <td>...</td>\n",
       "      <td>1</td>\n",
       "      <td>0</td>\n",
       "      <td>0</td>\n",
       "      <td>0</td>\n",
       "      <td>0</td>\n",
       "      <td>0</td>\n",
       "      <td>0</td>\n",
       "      <td>0</td>\n",
       "      <td>1</td>\n",
       "      <td>1</td>\n",
       "    </tr>\n",
       "    <tr>\n",
       "      <th>11</th>\n",
       "      <td>115</td>\n",
       "      <td>2.2</td>\n",
       "      <td>9.903488</td>\n",
       "      <td>0</td>\n",
       "      <td>0</td>\n",
       "      <td>0</td>\n",
       "      <td>0</td>\n",
       "      <td>0</td>\n",
       "      <td>0</td>\n",
       "      <td>1</td>\n",
       "      <td>...</td>\n",
       "      <td>0</td>\n",
       "      <td>0</td>\n",
       "      <td>0</td>\n",
       "      <td>0</td>\n",
       "      <td>0</td>\n",
       "      <td>1</td>\n",
       "      <td>0</td>\n",
       "      <td>0</td>\n",
       "      <td>0</td>\n",
       "      <td>0</td>\n",
       "    </tr>\n",
       "    <tr>\n",
       "      <th>12</th>\n",
       "      <td>85</td>\n",
       "      <td>3.2</td>\n",
       "      <td>10.463103</td>\n",
       "      <td>0</td>\n",
       "      <td>0</td>\n",
       "      <td>0</td>\n",
       "      <td>0</td>\n",
       "      <td>1</td>\n",
       "      <td>0</td>\n",
       "      <td>0</td>\n",
       "      <td>...</td>\n",
       "      <td>0</td>\n",
       "      <td>0</td>\n",
       "      <td>0</td>\n",
       "      <td>0</td>\n",
       "      <td>0</td>\n",
       "      <td>0</td>\n",
       "      <td>0</td>\n",
       "      <td>0</td>\n",
       "      <td>1</td>\n",
       "      <td>1</td>\n",
       "    </tr>\n",
       "  </tbody>\n",
       "</table>\n",
       "<p>5 rows × 22 columns</p>\n",
       "</div>"
      ],
      "text/plain": [
       "    Mileage  EngineV  log_price  Brand_BMW  Brand_Chevrolet  Brand_Ford  \\\n",
       "8       125      1.6   9.615805          0                0           0   \n",
       "9        95      2.0  10.239960          0                0           0   \n",
       "10      110      2.5   9.952278          0                0           0   \n",
       "11      115      2.2   9.903488          0                0           0   \n",
       "12       85      3.2  10.463103          0                0           0   \n",
       "\n",
       "    Brand_Honda  Brand_Jeep  Brand_Kia  Brand_Mazda  ...  Brand_Subaru  \\\n",
       "8             0           0          1            0  ...             0   \n",
       "9             0           0          0            0  ...             0   \n",
       "10            0           0          0            0  ...             1   \n",
       "11            0           0          0            1  ...             0   \n",
       "12            0           1          0            0  ...             0   \n",
       "\n",
       "    Brand_Toyota  Brand_Volvo  Body_coupe  Body_hatchback  Body_sedan  \\\n",
       "8              0            0           0               0           1   \n",
       "9              0            1           0               0           0   \n",
       "10             0            0           0               0           0   \n",
       "11             0            0           0               0           1   \n",
       "12             0            0           0               0           0   \n",
       "\n",
       "    Body_station  Engine Type_Hybrid  Engine Type_Petrol  Registration_yes  \n",
       "8              0                   1                   0                 1  \n",
       "9              1                   0                   0                 0  \n",
       "10             0                   0                   1                 1  \n",
       "11             0                   0                   0                 0  \n",
       "12             0                   0                   1                 1  \n",
       "\n",
       "[5 rows x 22 columns]"
      ]
     },
     "execution_count": 303,
     "metadata": {},
     "output_type": "execute_result"
    }
   ],
   "source": [
    "data.tail()\n"
   ]
  },
  {
   "cell_type": "code",
   "execution_count": 304,
   "id": "fae19a74-207c-406b-a83a-d9e61fdc7625",
   "metadata": {},
   "outputs": [
    {
     "name": "stdout",
     "output_type": "stream",
     "text": [
      "   Mileage  EngineV  log_price  Brand_BMW  Brand_Chevrolet  Brand_Ford  \\\n",
      "0       85      3.0   9.903488          1                0           0   \n",
      "1       95      2.5  10.308953          0                0           0   \n",
      "2      100      1.8  10.126631          0                0           0   \n",
      "3      110      2.2   9.798127          0                0           0   \n",
      "4      105      2.0   9.998798          0                0           0   \n",
      "\n",
      "   Brand_Honda  Brand_Jeep  Brand_Kia  Brand_Mazda  ...  Brand_Subaru  \\\n",
      "0            0           0          0            0  ...             0   \n",
      "1            0           0          0            0  ...             0   \n",
      "2            0           0          0            0  ...             0   \n",
      "3            1           0          0            0  ...             0   \n",
      "4            0           0          0            0  ...             0   \n",
      "\n",
      "   Brand_Toyota  Brand_Volvo  Body_coupe  Body_hatchback  Body_sedan  \\\n",
      "0             0            0           0               0           0   \n",
      "1             0            0           1               0           0   \n",
      "2             1            0           0               1           0   \n",
      "3             0            0           0               0           1   \n",
      "4             0            0           0               0           1   \n",
      "\n",
      "   Body_station  Engine Type_Hybrid  Engine Type_Petrol  Registration_yes  \n",
      "0             0                   0                   1                 0  \n",
      "1             0                   0                   1                 1  \n",
      "2             0                   1                   0                 1  \n",
      "3             0                   0                   0                 0  \n",
      "4             0                   0                   1                 1  \n",
      "\n",
      "[5 rows x 22 columns]\n"
     ]
    }
   ],
   "source": [
    "\n",
    "cols = [\n",
    "    'log_price', 'Mileage', 'EngineV',\n",
    "     'Brand_Toyota','Brand_Honda' ,  'Brand_Jeep',  'Brand_Kia','Body_sedan', 'Body_SUV','Body_hatchback', 'Engine Type_Petrol','Engine Type_Diesel','Engine Type_Hybrid', 'Registration_yes']\n",
    "print(data.head())\n"
   ]
  },
  {
   "cell_type": "code",
   "execution_count": 305,
   "id": "6cee0325-dea9-4117-a64d-7fbcd178109b",
   "metadata": {},
   "outputs": [],
   "source": [
    "targets = data_preprocessed['log_price']\n",
    "\n",
    "inputs = data_preprocessed.drop(['log_price'],axis=1)"
   ]
  },
  {
   "cell_type": "code",
   "execution_count": 306,
   "id": "2203556b-254d-466e-a9d7-470427a099e9",
   "metadata": {},
   "outputs": [],
   "source": [
    "# Import the scaling module\n",
    "from sklearn.preprocessing import StandardScaler\n",
    "\n",
    "# Create a scaler object\n",
    "scaler = StandardScaler()\n",
    "# Fit the inputs (calculate the mean and standard deviation feature-wise)\n",
    "scaler.fit(inputs)\n",
    "\n",
    "# Scale the features and store them in a new variable (the actual scaling procedure)\n",
    "inputs_scaled = scaler.transform(inputs)"
   ]
  },
  {
   "cell_type": "code",
   "execution_count": 307,
   "id": "a6bf8427-7243-49ce-80b0-57d6ee13d0ba",
   "metadata": {},
   "outputs": [],
   "source": [
    "# Import the module for the split\n",
    "from sklearn.model_selection import train_test_split\n",
    "\n",
    "# Spliting the variables with an 80-20 split and some random state\n",
    "x_train, x_test, y_train, y_test = train_test_split(inputs_scaled, targets, test_size=0.2, random_state=365)"
   ]
  },
  {
   "cell_type": "code",
   "execution_count": 308,
   "id": "da260d8a-c458-4f7d-abb3-e507ae979e75",
   "metadata": {},
   "outputs": [
    {
     "data": {
      "text/html": [
       "<style>#sk-container-id-5 {\n",
       "  /* Definition of color scheme common for light and dark mode */\n",
       "  --sklearn-color-text: black;\n",
       "  --sklearn-color-line: gray;\n",
       "  /* Definition of color scheme for unfitted estimators */\n",
       "  --sklearn-color-unfitted-level-0: #fff5e6;\n",
       "  --sklearn-color-unfitted-level-1: #f6e4d2;\n",
       "  --sklearn-color-unfitted-level-2: #ffe0b3;\n",
       "  --sklearn-color-unfitted-level-3: chocolate;\n",
       "  /* Definition of color scheme for fitted estimators */\n",
       "  --sklearn-color-fitted-level-0: #f0f8ff;\n",
       "  --sklearn-color-fitted-level-1: #d4ebff;\n",
       "  --sklearn-color-fitted-level-2: #b3dbfd;\n",
       "  --sklearn-color-fitted-level-3: cornflowerblue;\n",
       "\n",
       "  /* Specific color for light theme */\n",
       "  --sklearn-color-text-on-default-background: var(--sg-text-color, var(--theme-code-foreground, var(--jp-content-font-color1, black)));\n",
       "  --sklearn-color-background: var(--sg-background-color, var(--theme-background, var(--jp-layout-color0, white)));\n",
       "  --sklearn-color-border-box: var(--sg-text-color, var(--theme-code-foreground, var(--jp-content-font-color1, black)));\n",
       "  --sklearn-color-icon: #696969;\n",
       "\n",
       "  @media (prefers-color-scheme: dark) {\n",
       "    /* Redefinition of color scheme for dark theme */\n",
       "    --sklearn-color-text-on-default-background: var(--sg-text-color, var(--theme-code-foreground, var(--jp-content-font-color1, white)));\n",
       "    --sklearn-color-background: var(--sg-background-color, var(--theme-background, var(--jp-layout-color0, #111)));\n",
       "    --sklearn-color-border-box: var(--sg-text-color, var(--theme-code-foreground, var(--jp-content-font-color1, white)));\n",
       "    --sklearn-color-icon: #878787;\n",
       "  }\n",
       "}\n",
       "\n",
       "#sk-container-id-5 {\n",
       "  color: var(--sklearn-color-text);\n",
       "}\n",
       "\n",
       "#sk-container-id-5 pre {\n",
       "  padding: 0;\n",
       "}\n",
       "\n",
       "#sk-container-id-5 input.sk-hidden--visually {\n",
       "  border: 0;\n",
       "  clip: rect(1px 1px 1px 1px);\n",
       "  clip: rect(1px, 1px, 1px, 1px);\n",
       "  height: 1px;\n",
       "  margin: -1px;\n",
       "  overflow: hidden;\n",
       "  padding: 0;\n",
       "  position: absolute;\n",
       "  width: 1px;\n",
       "}\n",
       "\n",
       "#sk-container-id-5 div.sk-dashed-wrapped {\n",
       "  border: 1px dashed var(--sklearn-color-line);\n",
       "  margin: 0 0.4em 0.5em 0.4em;\n",
       "  box-sizing: border-box;\n",
       "  padding-bottom: 0.4em;\n",
       "  background-color: var(--sklearn-color-background);\n",
       "}\n",
       "\n",
       "#sk-container-id-5 div.sk-container {\n",
       "  /* jupyter's `normalize.less` sets `[hidden] { display: none; }`\n",
       "     but bootstrap.min.css set `[hidden] { display: none !important; }`\n",
       "     so we also need the `!important` here to be able to override the\n",
       "     default hidden behavior on the sphinx rendered scikit-learn.org.\n",
       "     See: https://github.com/scikit-learn/scikit-learn/issues/21755 */\n",
       "  display: inline-block !important;\n",
       "  position: relative;\n",
       "}\n",
       "\n",
       "#sk-container-id-5 div.sk-text-repr-fallback {\n",
       "  display: none;\n",
       "}\n",
       "\n",
       "div.sk-parallel-item,\n",
       "div.sk-serial,\n",
       "div.sk-item {\n",
       "  /* draw centered vertical line to link estimators */\n",
       "  background-image: linear-gradient(var(--sklearn-color-text-on-default-background), var(--sklearn-color-text-on-default-background));\n",
       "  background-size: 2px 100%;\n",
       "  background-repeat: no-repeat;\n",
       "  background-position: center center;\n",
       "}\n",
       "\n",
       "/* Parallel-specific style estimator block */\n",
       "\n",
       "#sk-container-id-5 div.sk-parallel-item::after {\n",
       "  content: \"\";\n",
       "  width: 100%;\n",
       "  border-bottom: 2px solid var(--sklearn-color-text-on-default-background);\n",
       "  flex-grow: 1;\n",
       "}\n",
       "\n",
       "#sk-container-id-5 div.sk-parallel {\n",
       "  display: flex;\n",
       "  align-items: stretch;\n",
       "  justify-content: center;\n",
       "  background-color: var(--sklearn-color-background);\n",
       "  position: relative;\n",
       "}\n",
       "\n",
       "#sk-container-id-5 div.sk-parallel-item {\n",
       "  display: flex;\n",
       "  flex-direction: column;\n",
       "}\n",
       "\n",
       "#sk-container-id-5 div.sk-parallel-item:first-child::after {\n",
       "  align-self: flex-end;\n",
       "  width: 50%;\n",
       "}\n",
       "\n",
       "#sk-container-id-5 div.sk-parallel-item:last-child::after {\n",
       "  align-self: flex-start;\n",
       "  width: 50%;\n",
       "}\n",
       "\n",
       "#sk-container-id-5 div.sk-parallel-item:only-child::after {\n",
       "  width: 0;\n",
       "}\n",
       "\n",
       "/* Serial-specific style estimator block */\n",
       "\n",
       "#sk-container-id-5 div.sk-serial {\n",
       "  display: flex;\n",
       "  flex-direction: column;\n",
       "  align-items: center;\n",
       "  background-color: var(--sklearn-color-background);\n",
       "  padding-right: 1em;\n",
       "  padding-left: 1em;\n",
       "}\n",
       "\n",
       "\n",
       "/* Toggleable style: style used for estimator/Pipeline/ColumnTransformer box that is\n",
       "clickable and can be expanded/collapsed.\n",
       "- Pipeline and ColumnTransformer use this feature and define the default style\n",
       "- Estimators will overwrite some part of the style using the `sk-estimator` class\n",
       "*/\n",
       "\n",
       "/* Pipeline and ColumnTransformer style (default) */\n",
       "\n",
       "#sk-container-id-5 div.sk-toggleable {\n",
       "  /* Default theme specific background. It is overwritten whether we have a\n",
       "  specific estimator or a Pipeline/ColumnTransformer */\n",
       "  background-color: var(--sklearn-color-background);\n",
       "}\n",
       "\n",
       "/* Toggleable label */\n",
       "#sk-container-id-5 label.sk-toggleable__label {\n",
       "  cursor: pointer;\n",
       "  display: block;\n",
       "  width: 100%;\n",
       "  margin-bottom: 0;\n",
       "  padding: 0.5em;\n",
       "  box-sizing: border-box;\n",
       "  text-align: center;\n",
       "}\n",
       "\n",
       "#sk-container-id-5 label.sk-toggleable__label-arrow:before {\n",
       "  /* Arrow on the left of the label */\n",
       "  content: \"▸\";\n",
       "  float: left;\n",
       "  margin-right: 0.25em;\n",
       "  color: var(--sklearn-color-icon);\n",
       "}\n",
       "\n",
       "#sk-container-id-5 label.sk-toggleable__label-arrow:hover:before {\n",
       "  color: var(--sklearn-color-text);\n",
       "}\n",
       "\n",
       "/* Toggleable content - dropdown */\n",
       "\n",
       "#sk-container-id-5 div.sk-toggleable__content {\n",
       "  max-height: 0;\n",
       "  max-width: 0;\n",
       "  overflow: hidden;\n",
       "  text-align: left;\n",
       "  /* unfitted */\n",
       "  background-color: var(--sklearn-color-unfitted-level-0);\n",
       "}\n",
       "\n",
       "#sk-container-id-5 div.sk-toggleable__content.fitted {\n",
       "  /* fitted */\n",
       "  background-color: var(--sklearn-color-fitted-level-0);\n",
       "}\n",
       "\n",
       "#sk-container-id-5 div.sk-toggleable__content pre {\n",
       "  margin: 0.2em;\n",
       "  border-radius: 0.25em;\n",
       "  color: var(--sklearn-color-text);\n",
       "  /* unfitted */\n",
       "  background-color: var(--sklearn-color-unfitted-level-0);\n",
       "}\n",
       "\n",
       "#sk-container-id-5 div.sk-toggleable__content.fitted pre {\n",
       "  /* unfitted */\n",
       "  background-color: var(--sklearn-color-fitted-level-0);\n",
       "}\n",
       "\n",
       "#sk-container-id-5 input.sk-toggleable__control:checked~div.sk-toggleable__content {\n",
       "  /* Expand drop-down */\n",
       "  max-height: 200px;\n",
       "  max-width: 100%;\n",
       "  overflow: auto;\n",
       "}\n",
       "\n",
       "#sk-container-id-5 input.sk-toggleable__control:checked~label.sk-toggleable__label-arrow:before {\n",
       "  content: \"▾\";\n",
       "}\n",
       "\n",
       "/* Pipeline/ColumnTransformer-specific style */\n",
       "\n",
       "#sk-container-id-5 div.sk-label input.sk-toggleable__control:checked~label.sk-toggleable__label {\n",
       "  color: var(--sklearn-color-text);\n",
       "  background-color: var(--sklearn-color-unfitted-level-2);\n",
       "}\n",
       "\n",
       "#sk-container-id-5 div.sk-label.fitted input.sk-toggleable__control:checked~label.sk-toggleable__label {\n",
       "  background-color: var(--sklearn-color-fitted-level-2);\n",
       "}\n",
       "\n",
       "/* Estimator-specific style */\n",
       "\n",
       "/* Colorize estimator box */\n",
       "#sk-container-id-5 div.sk-estimator input.sk-toggleable__control:checked~label.sk-toggleable__label {\n",
       "  /* unfitted */\n",
       "  background-color: var(--sklearn-color-unfitted-level-2);\n",
       "}\n",
       "\n",
       "#sk-container-id-5 div.sk-estimator.fitted input.sk-toggleable__control:checked~label.sk-toggleable__label {\n",
       "  /* fitted */\n",
       "  background-color: var(--sklearn-color-fitted-level-2);\n",
       "}\n",
       "\n",
       "#sk-container-id-5 div.sk-label label.sk-toggleable__label,\n",
       "#sk-container-id-5 div.sk-label label {\n",
       "  /* The background is the default theme color */\n",
       "  color: var(--sklearn-color-text-on-default-background);\n",
       "}\n",
       "\n",
       "/* On hover, darken the color of the background */\n",
       "#sk-container-id-5 div.sk-label:hover label.sk-toggleable__label {\n",
       "  color: var(--sklearn-color-text);\n",
       "  background-color: var(--sklearn-color-unfitted-level-2);\n",
       "}\n",
       "\n",
       "/* Label box, darken color on hover, fitted */\n",
       "#sk-container-id-5 div.sk-label.fitted:hover label.sk-toggleable__label.fitted {\n",
       "  color: var(--sklearn-color-text);\n",
       "  background-color: var(--sklearn-color-fitted-level-2);\n",
       "}\n",
       "\n",
       "/* Estimator label */\n",
       "\n",
       "#sk-container-id-5 div.sk-label label {\n",
       "  font-family: monospace;\n",
       "  font-weight: bold;\n",
       "  display: inline-block;\n",
       "  line-height: 1.2em;\n",
       "}\n",
       "\n",
       "#sk-container-id-5 div.sk-label-container {\n",
       "  text-align: center;\n",
       "}\n",
       "\n",
       "/* Estimator-specific */\n",
       "#sk-container-id-5 div.sk-estimator {\n",
       "  font-family: monospace;\n",
       "  border: 1px dotted var(--sklearn-color-border-box);\n",
       "  border-radius: 0.25em;\n",
       "  box-sizing: border-box;\n",
       "  margin-bottom: 0.5em;\n",
       "  /* unfitted */\n",
       "  background-color: var(--sklearn-color-unfitted-level-0);\n",
       "}\n",
       "\n",
       "#sk-container-id-5 div.sk-estimator.fitted {\n",
       "  /* fitted */\n",
       "  background-color: var(--sklearn-color-fitted-level-0);\n",
       "}\n",
       "\n",
       "/* on hover */\n",
       "#sk-container-id-5 div.sk-estimator:hover {\n",
       "  /* unfitted */\n",
       "  background-color: var(--sklearn-color-unfitted-level-2);\n",
       "}\n",
       "\n",
       "#sk-container-id-5 div.sk-estimator.fitted:hover {\n",
       "  /* fitted */\n",
       "  background-color: var(--sklearn-color-fitted-level-2);\n",
       "}\n",
       "\n",
       "/* Specification for estimator info (e.g. \"i\" and \"?\") */\n",
       "\n",
       "/* Common style for \"i\" and \"?\" */\n",
       "\n",
       ".sk-estimator-doc-link,\n",
       "a:link.sk-estimator-doc-link,\n",
       "a:visited.sk-estimator-doc-link {\n",
       "  float: right;\n",
       "  font-size: smaller;\n",
       "  line-height: 1em;\n",
       "  font-family: monospace;\n",
       "  background-color: var(--sklearn-color-background);\n",
       "  border-radius: 1em;\n",
       "  height: 1em;\n",
       "  width: 1em;\n",
       "  text-decoration: none !important;\n",
       "  margin-left: 1ex;\n",
       "  /* unfitted */\n",
       "  border: var(--sklearn-color-unfitted-level-1) 1pt solid;\n",
       "  color: var(--sklearn-color-unfitted-level-1);\n",
       "}\n",
       "\n",
       ".sk-estimator-doc-link.fitted,\n",
       "a:link.sk-estimator-doc-link.fitted,\n",
       "a:visited.sk-estimator-doc-link.fitted {\n",
       "  /* fitted */\n",
       "  border: var(--sklearn-color-fitted-level-1) 1pt solid;\n",
       "  color: var(--sklearn-color-fitted-level-1);\n",
       "}\n",
       "\n",
       "/* On hover */\n",
       "div.sk-estimator:hover .sk-estimator-doc-link:hover,\n",
       ".sk-estimator-doc-link:hover,\n",
       "div.sk-label-container:hover .sk-estimator-doc-link:hover,\n",
       ".sk-estimator-doc-link:hover {\n",
       "  /* unfitted */\n",
       "  background-color: var(--sklearn-color-unfitted-level-3);\n",
       "  color: var(--sklearn-color-background);\n",
       "  text-decoration: none;\n",
       "}\n",
       "\n",
       "div.sk-estimator.fitted:hover .sk-estimator-doc-link.fitted:hover,\n",
       ".sk-estimator-doc-link.fitted:hover,\n",
       "div.sk-label-container:hover .sk-estimator-doc-link.fitted:hover,\n",
       ".sk-estimator-doc-link.fitted:hover {\n",
       "  /* fitted */\n",
       "  background-color: var(--sklearn-color-fitted-level-3);\n",
       "  color: var(--sklearn-color-background);\n",
       "  text-decoration: none;\n",
       "}\n",
       "\n",
       "/* Span, style for the box shown on hovering the info icon */\n",
       ".sk-estimator-doc-link span {\n",
       "  display: none;\n",
       "  z-index: 9999;\n",
       "  position: relative;\n",
       "  font-weight: normal;\n",
       "  right: .2ex;\n",
       "  padding: .5ex;\n",
       "  margin: .5ex;\n",
       "  width: min-content;\n",
       "  min-width: 20ex;\n",
       "  max-width: 50ex;\n",
       "  color: var(--sklearn-color-text);\n",
       "  box-shadow: 2pt 2pt 4pt #999;\n",
       "  /* unfitted */\n",
       "  background: var(--sklearn-color-unfitted-level-0);\n",
       "  border: .5pt solid var(--sklearn-color-unfitted-level-3);\n",
       "}\n",
       "\n",
       ".sk-estimator-doc-link.fitted span {\n",
       "  /* fitted */\n",
       "  background: var(--sklearn-color-fitted-level-0);\n",
       "  border: var(--sklearn-color-fitted-level-3);\n",
       "}\n",
       "\n",
       ".sk-estimator-doc-link:hover span {\n",
       "  display: block;\n",
       "}\n",
       "\n",
       "/* \"?\"-specific style due to the `<a>` HTML tag */\n",
       "\n",
       "#sk-container-id-5 a.estimator_doc_link {\n",
       "  float: right;\n",
       "  font-size: 1rem;\n",
       "  line-height: 1em;\n",
       "  font-family: monospace;\n",
       "  background-color: var(--sklearn-color-background);\n",
       "  border-radius: 1rem;\n",
       "  height: 1rem;\n",
       "  width: 1rem;\n",
       "  text-decoration: none;\n",
       "  /* unfitted */\n",
       "  color: var(--sklearn-color-unfitted-level-1);\n",
       "  border: var(--sklearn-color-unfitted-level-1) 1pt solid;\n",
       "}\n",
       "\n",
       "#sk-container-id-5 a.estimator_doc_link.fitted {\n",
       "  /* fitted */\n",
       "  border: var(--sklearn-color-fitted-level-1) 1pt solid;\n",
       "  color: var(--sklearn-color-fitted-level-1);\n",
       "}\n",
       "\n",
       "/* On hover */\n",
       "#sk-container-id-5 a.estimator_doc_link:hover {\n",
       "  /* unfitted */\n",
       "  background-color: var(--sklearn-color-unfitted-level-3);\n",
       "  color: var(--sklearn-color-background);\n",
       "  text-decoration: none;\n",
       "}\n",
       "\n",
       "#sk-container-id-5 a.estimator_doc_link.fitted:hover {\n",
       "  /* fitted */\n",
       "  background-color: var(--sklearn-color-fitted-level-3);\n",
       "}\n",
       "</style><div id=\"sk-container-id-5\" class=\"sk-top-container\"><div class=\"sk-text-repr-fallback\"><pre>LinearRegression()</pre><b>In a Jupyter environment, please rerun this cell to show the HTML representation or trust the notebook. <br />On GitHub, the HTML representation is unable to render, please try loading this page with nbviewer.org.</b></div><div class=\"sk-container\" hidden><div class=\"sk-item\"><div class=\"sk-estimator fitted sk-toggleable\"><input class=\"sk-toggleable__control sk-hidden--visually\" id=\"sk-estimator-id-5\" type=\"checkbox\" checked><label for=\"sk-estimator-id-5\" class=\"sk-toggleable__label fitted sk-toggleable__label-arrow fitted\">&nbsp;&nbsp;LinearRegression<a class=\"sk-estimator-doc-link fitted\" rel=\"noreferrer\" target=\"_blank\" href=\"https://scikit-learn.org/1.4/modules/generated/sklearn.linear_model.LinearRegression.html\">?<span>Documentation for LinearRegression</span></a><span class=\"sk-estimator-doc-link fitted\">i<span>Fitted</span></span></label><div class=\"sk-toggleable__content fitted\"><pre>LinearRegression()</pre></div> </div></div></div></div>"
      ],
      "text/plain": [
       "LinearRegression()"
      ]
     },
     "execution_count": 308,
     "metadata": {},
     "output_type": "execute_result"
    }
   ],
   "source": [
    "# Create a linear regression object\n",
    "reg = LinearRegression()\n",
    "# Fit the regression with the scaled TRAIN inputs and targets\n",
    "reg.fit(x_train,y_train)"
   ]
  },
  {
   "cell_type": "code",
   "execution_count": 309,
   "id": "08c18076-16cf-4991-aeff-a4884174813f",
   "metadata": {},
   "outputs": [],
   "source": [
    "# Checking the outputs of the regression\n",
    "y_hat = reg.predict(x_train)\n"
   ]
  },
  {
   "cell_type": "code",
   "execution_count": 310,
   "id": "d39026c0-78fd-48e8-93ec-02ce0d7da0a7",
   "metadata": {},
   "outputs": [
    {
     "data": {
      "image/png": "[encoded data removed]",
      "text/plain": [
       "<Figure size 640x480 with 1 Axes>"
      ]
     },
     "metadata": {},
     "output_type": "display_data"
    }
   ],
   "source": [
    "# Comparing the targets (y_train) and the predictions (y_hat)\n",
    "plt.scatter(y_train, y_hat)\n",
    "plt.xlabel('Targets (y_train)',size=18)\n",
    "plt.ylabel('Predictions (y_hat)',size=18)\n",
    "plt.xlim(1,15)\n",
    "plt.ylim(1,15)\n",
    "plt.show()"
   ]
  },
  {
   "cell_type": "code",
   "execution_count": 311,
   "id": "602be36d-43f7-44d9-b473-c19d57b8087b",
   "metadata": {},
   "outputs": [
    {
     "data": {
      "text/plain": [
       "Text(0.5, 1.0, 'Residuals PDF')"
      ]
     },
     "execution_count": 311,
     "metadata": {},
     "output_type": "execute_result"
    },
    {
     "data": {
      "image/png": "[encoded data removed]",
      "text/plain": [
       "<Figure size 500x500 with 1 Axes>"
      ]
     },
     "metadata": {},
     "output_type": "display_data"
    }
   ],
   "source": [
    "sns.displot(y_train - y_hat)\n",
    "plt.title(\"Residuals PDF\", size=18)"
   ]
  },
  {
   "cell_type": "code",
   "execution_count": 312,
   "id": "e48bed61-a625-4bfb-a0da-b5b28baf23c0",
   "metadata": {},
   "outputs": [
    {
     "name": "stdout",
     "output_type": "stream",
     "text": [
      "Score:  1.0\n",
      "Intercept:  9.999593594703008\n",
      "Coefficents:  [-4.54216697e-02  3.61528919e-02 -5.14449423e-02  7.76904681e-19\n",
      " -2.54727809e-02 -1.55063794e-17  7.34804691e-02 -5.65662913e-02\n",
      "  9.98978215e-03  2.74393497e-02 -6.37192836e-03 -2.80647366e-02\n",
      "  3.86648275e-02  2.18018893e-30  2.74393497e-02  9.74297210e-03\n",
      " -1.62987471e-02  2.18018893e-30 -1.32211072e-02  2.12506848e-02\n",
      "  3.66579430e-02]\n"
     ]
    }
   ],
   "source": [
    "score =reg.score(x_train,y_train)\n",
    "intercept =reg.intercept_\n",
    "coefficents =reg.coef_\n",
    "print(\"Score: \",score)\n",
    "print(\"Intercept: \",intercept)\n",
    "print(\"Coefficents: \",coefficents)"
   ]
  },
  {
   "cell_type": "code",
   "execution_count": 313,
   "id": "81da384b-7180-48ba-9667-2d696e9965a7",
   "metadata": {},
   "outputs": [
    {
     "data": {
      "text/html": [
       "<div>\n",
       "<style scoped>\n",
       "    .dataframe tbody tr th:only-of-type {\n",
       "        vertical-align: middle;\n",
       "    }\n",
       "\n",
       "    .dataframe tbody tr th {\n",
       "        vertical-align: top;\n",
       "    }\n",
       "\n",
       "    .dataframe thead th {\n",
       "        text-align: right;\n",
       "    }\n",
       "</style>\n",
       "<table border=\"1\" class=\"dataframe\">\n",
       "  <thead>\n",
       "    <tr style=\"text-align: right;\">\n",
       "      <th></th>\n",
       "      <th>Features</th>\n",
       "      <th>Weights</th>\n",
       "    </tr>\n",
       "  </thead>\n",
       "  <tbody>\n",
       "    <tr>\n",
       "      <th>0</th>\n",
       "      <td>Mileage</td>\n",
       "      <td>-4.542167e-02</td>\n",
       "    </tr>\n",
       "    <tr>\n",
       "      <th>1</th>\n",
       "      <td>EngineV</td>\n",
       "      <td>3.615289e-02</td>\n",
       "    </tr>\n",
       "    <tr>\n",
       "      <th>2</th>\n",
       "      <td>Brand_BMW</td>\n",
       "      <td>-5.144494e-02</td>\n",
       "    </tr>\n",
       "    <tr>\n",
       "      <th>3</th>\n",
       "      <td>Brand_Chevrolet</td>\n",
       "      <td>7.769047e-19</td>\n",
       "    </tr>\n",
       "    <tr>\n",
       "      <th>4</th>\n",
       "      <td>Brand_Ford</td>\n",
       "      <td>-2.547278e-02</td>\n",
       "    </tr>\n",
       "    <tr>\n",
       "      <th>5</th>\n",
       "      <td>Brand_Honda</td>\n",
       "      <td>-1.550638e-17</td>\n",
       "    </tr>\n",
       "    <tr>\n",
       "      <th>6</th>\n",
       "      <td>Brand_Jeep</td>\n",
       "      <td>7.348047e-02</td>\n",
       "    </tr>\n",
       "    <tr>\n",
       "      <th>7</th>\n",
       "      <td>Brand_Kia</td>\n",
       "      <td>-5.656629e-02</td>\n",
       "    </tr>\n",
       "    <tr>\n",
       "      <th>8</th>\n",
       "      <td>Brand_Mazda</td>\n",
       "      <td>9.989782e-03</td>\n",
       "    </tr>\n",
       "    <tr>\n",
       "      <th>9</th>\n",
       "      <td>Brand_Mercedes</td>\n",
       "      <td>2.743935e-02</td>\n",
       "    </tr>\n",
       "    <tr>\n",
       "      <th>10</th>\n",
       "      <td>Brand_Nissan</td>\n",
       "      <td>-6.371928e-03</td>\n",
       "    </tr>\n",
       "    <tr>\n",
       "      <th>11</th>\n",
       "      <td>Brand_Subaru</td>\n",
       "      <td>-2.806474e-02</td>\n",
       "    </tr>\n",
       "    <tr>\n",
       "      <th>12</th>\n",
       "      <td>Brand_Toyota</td>\n",
       "      <td>3.866483e-02</td>\n",
       "    </tr>\n",
       "    <tr>\n",
       "      <th>13</th>\n",
       "      <td>Brand_Volvo</td>\n",
       "      <td>2.180189e-30</td>\n",
       "    </tr>\n",
       "    <tr>\n",
       "      <th>14</th>\n",
       "      <td>Body_coupe</td>\n",
       "      <td>2.743935e-02</td>\n",
       "    </tr>\n",
       "    <tr>\n",
       "      <th>15</th>\n",
       "      <td>Body_hatchback</td>\n",
       "      <td>9.742972e-03</td>\n",
       "    </tr>\n",
       "    <tr>\n",
       "      <th>16</th>\n",
       "      <td>Body_sedan</td>\n",
       "      <td>-1.629875e-02</td>\n",
       "    </tr>\n",
       "    <tr>\n",
       "      <th>17</th>\n",
       "      <td>Body_station</td>\n",
       "      <td>2.180189e-30</td>\n",
       "    </tr>\n",
       "    <tr>\n",
       "      <th>18</th>\n",
       "      <td>Engine Type_Hybrid</td>\n",
       "      <td>-1.322111e-02</td>\n",
       "    </tr>\n",
       "    <tr>\n",
       "      <th>19</th>\n",
       "      <td>Engine Type_Petrol</td>\n",
       "      <td>2.125068e-02</td>\n",
       "    </tr>\n",
       "    <tr>\n",
       "      <th>20</th>\n",
       "      <td>Registration_yes</td>\n",
       "      <td>3.665794e-02</td>\n",
       "    </tr>\n",
       "  </tbody>\n",
       "</table>\n",
       "</div>"
      ],
      "text/plain": [
       "              Features       Weights\n",
       "0              Mileage -4.542167e-02\n",
       "1              EngineV  3.615289e-02\n",
       "2            Brand_BMW -5.144494e-02\n",
       "3      Brand_Chevrolet  7.769047e-19\n",
       "4           Brand_Ford -2.547278e-02\n",
       "5          Brand_Honda -1.550638e-17\n",
       "6           Brand_Jeep  7.348047e-02\n",
       "7            Brand_Kia -5.656629e-02\n",
       "8          Brand_Mazda  9.989782e-03\n",
       "9       Brand_Mercedes  2.743935e-02\n",
       "10        Brand_Nissan -6.371928e-03\n",
       "11        Brand_Subaru -2.806474e-02\n",
       "12        Brand_Toyota  3.866483e-02\n",
       "13         Brand_Volvo  2.180189e-30\n",
       "14          Body_coupe  2.743935e-02\n",
       "15      Body_hatchback  9.742972e-03\n",
       "16          Body_sedan -1.629875e-02\n",
       "17        Body_station  2.180189e-30\n",
       "18  Engine Type_Hybrid -1.322111e-02\n",
       "19  Engine Type_Petrol  2.125068e-02\n",
       "20    Registration_yes  3.665794e-02"
      ]
     },
     "execution_count": 313,
     "metadata": {},
     "output_type": "execute_result"
    }
   ],
   "source": [
    "reg_summary = pd.DataFrame(inputs.columns.values, columns=['Features'])\n",
    "reg_summary['Weights'] = reg.coef_\n",
    "reg_summary"
   ]
  },
  {
   "cell_type": "code",
   "execution_count": 314,
   "id": "90873fa8-07d8-4c12-b98d-d9f7699b3084",
   "metadata": {},
   "outputs": [],
   "source": [
    "y_hat_test = reg.predict(x_test)"
   ]
  },
  {
   "cell_type": "code",
   "execution_count": 315,
   "id": "414fd6a1-6891-4eaf-b40d-9ed87cfdd83b",
   "metadata": {},
   "outputs": [
    {
     "data": {
      "image/png": "[encoded data removed]",
      "text/plain": [
       "<Figure size 640x480 with 1 Axes>"
      ]
     },
     "metadata": {},
     "output_type": "display_data"
    }
   ],
   "source": [
    "plt.scatter(y_test, y_hat_test, alpha=0.2)\n",
    "plt.xlabel('Targets (y_test)',size=18)\n",
    "plt.ylabel('Predictions (y_hat_test)',size=18)\n",
    "plt.xlim(6,13)\n",
    "plt.ylim(6,13)\n",
    "plt.show()"
   ]
  },
  {
   "cell_type": "code",
   "execution_count": 316,
   "id": "82d1e035-54d9-4091-9b91-a2dfdec8aeca",
   "metadata": {},
   "outputs": [],
   "source": [
    "df_pf = pd.DataFrame(np.exp(y_hat_test), columns=['Prediction'])"
   ]
  },
  {
   "cell_type": "code",
   "execution_count": 317,
   "id": "62c00dc8-f0eb-4817-ac87-7138b41df04a",
   "metadata": {},
   "outputs": [
    {
     "data": {
      "text/html": [
       "<div>\n",
       "<style scoped>\n",
       "    .dataframe tbody tr th:only-of-type {\n",
       "        vertical-align: middle;\n",
       "    }\n",
       "\n",
       "    .dataframe tbody tr th {\n",
       "        vertical-align: top;\n",
       "    }\n",
       "\n",
       "    .dataframe thead th {\n",
       "        text-align: right;\n",
       "    }\n",
       "</style>\n",
       "<table border=\"1\" class=\"dataframe\">\n",
       "  <thead>\n",
       "    <tr style=\"text-align: right;\">\n",
       "      <th></th>\n",
       "      <th>Prediction</th>\n",
       "      <th>Target</th>\n",
       "    </tr>\n",
       "  </thead>\n",
       "  <tbody>\n",
       "    <tr>\n",
       "      <th>0</th>\n",
       "      <td>24597.898075</td>\n",
       "      <td>NaN</td>\n",
       "    </tr>\n",
       "    <tr>\n",
       "      <th>1</th>\n",
       "      <td>20877.044555</td>\n",
       "      <td>NaN</td>\n",
       "    </tr>\n",
       "    <tr>\n",
       "      <th>2</th>\n",
       "      <td>19557.883108</td>\n",
       "      <td>NaN</td>\n",
       "    </tr>\n",
       "  </tbody>\n",
       "</table>\n",
       "</div>"
      ],
      "text/plain": [
       "     Prediction  Target\n",
       "0  24597.898075     NaN\n",
       "1  20877.044555     NaN\n",
       "2  19557.883108     NaN"
      ]
     },
     "execution_count": 317,
     "metadata": {},
     "output_type": "execute_result"
    }
   ],
   "source": [
    "df_pf['Target'] = np.exp(y_test)\n",
    "df_pf\n"
   ]
  },
  {
   "cell_type": "code",
   "execution_count": 318,
   "id": "b4521e66-58fa-4a50-a3f7-dafb9051882b",
   "metadata": {},
   "outputs": [],
   "source": [
    "y_test = y_test.reset_index(drop=True)\n"
   ]
  },
  {
   "cell_type": "code",
   "execution_count": 319,
   "id": "4d3d0057-2929-4c86-be7c-b2a7e0c80f86",
   "metadata": {},
   "outputs": [],
   "source": [
    "df_pf['Target'] = np.exp(y_test)\n"
   ]
  },
  {
   "cell_type": "code",
   "execution_count": 320,
   "id": "1790ed1d-fbef-4791-baf4-95202da03602",
   "metadata": {},
   "outputs": [],
   "source": [
    "df_pf['Residual'] = df_pf['Target'] - df_pf['Prediction']\n"
   ]
  },
  {
   "cell_type": "code",
   "execution_count": 321,
   "id": "e596efc1-3d60-4c3b-9754-7bf90a3bce98",
   "metadata": {},
   "outputs": [
    {
     "data": {
      "text/html": [
       "<div>\n",
       "<style scoped>\n",
       "    .dataframe tbody tr th:only-of-type {\n",
       "        vertical-align: middle;\n",
       "    }\n",
       "\n",
       "    .dataframe tbody tr th {\n",
       "        vertical-align: top;\n",
       "    }\n",
       "\n",
       "    .dataframe thead th {\n",
       "        text-align: right;\n",
       "    }\n",
       "</style>\n",
       "<table border=\"1\" class=\"dataframe\">\n",
       "  <thead>\n",
       "    <tr style=\"text-align: right;\">\n",
       "      <th></th>\n",
       "      <th>Prediction</th>\n",
       "      <th>Target</th>\n",
       "      <th>Residual</th>\n",
       "      <th>Difference%</th>\n",
       "    </tr>\n",
       "  </thead>\n",
       "  <tbody>\n",
       "    <tr>\n",
       "      <th>0</th>\n",
       "      <td>24597.898075</td>\n",
       "      <td>19000.0</td>\n",
       "      <td>-5597.898075</td>\n",
       "      <td>29.462621</td>\n",
       "    </tr>\n",
       "    <tr>\n",
       "      <th>1</th>\n",
       "      <td>20877.044555</td>\n",
       "      <td>28000.0</td>\n",
       "      <td>7122.955445</td>\n",
       "      <td>25.439127</td>\n",
       "    </tr>\n",
       "    <tr>\n",
       "      <th>2</th>\n",
       "      <td>19557.883108</td>\n",
       "      <td>18000.0</td>\n",
       "      <td>-1557.883108</td>\n",
       "      <td>8.654906</td>\n",
       "    </tr>\n",
       "  </tbody>\n",
       "</table>\n",
       "</div>"
      ],
      "text/plain": [
       "     Prediction   Target     Residual  Difference%\n",
       "0  24597.898075  19000.0 -5597.898075    29.462621\n",
       "1  20877.044555  28000.0  7122.955445    25.439127\n",
       "2  19557.883108  18000.0 -1557.883108     8.654906"
      ]
     },
     "execution_count": 321,
     "metadata": {},
     "output_type": "execute_result"
    }
   ],
   "source": [
    "df_pf['Difference%'] = np.absolute(df_pf['Residual']/df_pf['Target']*100)\n",
    "df_pf"
   ]
  }
 ],
 "metadata": {
  "kernelspec": {
   "display_name": "Python 3 (ipykernel)",
   "language": "python",
   "name": "python3"
  },
  "language_info": {
   "codemirror_mode": {
    "name": "ipython",
    "version": 3
   },
   "file_extension": ".py",
   "mimetype": "text/x-python",
   "name": "python",
   "nbconvert_exporter": "python",
   "pygments_lexer": "ipython3",
   "version": "3.12.4"
  }
 },
 "nbformat": 4,
 "nbformat_minor": 5
}
